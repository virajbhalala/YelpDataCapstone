{
 "cells": [
  {
   "cell_type": "code",
   "execution_count": 1,
   "metadata": {
    "collapsed": true
   },
   "outputs": [],
   "source": [
    "# import graphlab as gl\n",
    "import matplotlib.pyplot as plt \n",
    "import nltk\n",
    "import pandas as pd\n",
    "# import stop_words as sw\n",
    "from nltk.corpus import stopwords\n",
    "import re\n",
    "import gensim\n",
    "from gensim.utils import lemmatize, simple_preprocess\n",
    "import gensim.corpora as corpora\n",
    "from matplotlib import pyplot as plt\n",
    "import matplotlib.colors as mcolors\n",
    "import spacy, logging, warnings\n",
    "\n"
   ]
  },
  {
   "cell_type": "code",
   "execution_count": 2,
   "metadata": {
    "collapsed": true
   },
   "outputs": [],
   "source": [
    "topic_size = 10\n",
    "business = pd.read_json(\"../data/yelp_dataset_challenge_academic_dataset/yelp_academic_dataset_business.json\", lines=True)\n",
    "checkin = pd.read_json(\"../data/yelp_dataset_challenge_academic_dataset/yelp_academic_dataset_checkin.json\", lines=True)\n",
    "reviews = pd.read_json(\"../data/yelp_dataset_challenge_academic_dataset/yelp_academic_dataset_review.json\", lines=True)\n",
    "tip = pd.read_json(\"../data/yelp_dataset_challenge_academic_dataset/yelp_academic_dataset_tip.json\", lines=True)\n",
    "user = pd.read_json(\"../data/yelp_dataset_challenge_academic_dataset/yelp_academic_dataset_user.json\", lines=True)\n",
    "\n",
    "\n"
   ]
  },
  {
   "cell_type": "code",
   "execution_count": null,
   "metadata": {
    "collapsed": true
   },
   "outputs": [],
   "source": []
  }
 ],
 "metadata": {
  "kernelspec": {
   "display_name": "Python [default]",
   "language": "python",
   "name": "python3"
  },
  "language_info": {
   "codemirror_mode": {
    "name": "ipython",
    "version": 3
   },
   "file_extension": ".py",
   "mimetype": "text/x-python",
   "name": "python",
   "nbconvert_exporter": "python",
   "pygments_lexer": "ipython3",
   "version": "3.6.8"
  }
 },
 "nbformat": 4,
 "nbformat_minor": 2
}
