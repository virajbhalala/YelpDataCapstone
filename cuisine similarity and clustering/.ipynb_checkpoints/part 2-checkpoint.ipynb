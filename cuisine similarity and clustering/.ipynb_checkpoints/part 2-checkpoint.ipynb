{
 "cells": [
  {
   "cell_type": "code",
   "execution_count": null,
   "metadata": {
    "collapsed": false
   },
   "outputs": [],
   "source": [
    "# import graphlab as gl\n",
    "import matplotlib.pyplot as plt \n",
    "# import nltk\n",
    "import pandas as pd\n",
    "import numpy as np\n",
    "# from nltk.corpus import stopwords\n",
    "from gensim import *\n",
    "# %matplotlib inline\n",
    "import matplotlib.colors as mcolors\n",
    "from matplotlib import *\n",
    "import spacy, logging, warnings, os, re\n",
    "from pathlib2 import Path\n",
    "from sklearn.feature_extraction.text import TfidfVectorizer\n",
    "from sklearn.metrics.pairwise import *\n",
    "import math\n",
    "\n",
    "\n"
   ]
  },
  {
   "cell_type": "code",
   "execution_count": null,
   "metadata": {
    "collapsed": false
   },
   "outputs": [],
   "source": [
    "allfiles = os.listdir('../data/categories/')\n",
    "# allfiles.remove(\".DS_Store\")\n",
    "cuisines = [f.replace('.txt','') for f in allfiles]\n",
    "contents = [Path('../data/categories/'+f).read_text(encoding=\"utf8\")\n",
    "            .replace('\\n',' ') for f in allfiles]"
   ]
  },
  {
   "cell_type": "code",
   "execution_count": null,
   "metadata": {
    "collapsed": true
   },
   "outputs": [],
   "source": [
    "def vectorizer(content,use_idf = False, max_df = .9):\n",
    "    vectorizer = TfidfVectorizer(stop_words='english', use_idf=use_idf,max_df=max_df)\n",
    "    matrix = vectorizer.fit_transform(contents)\n",
    "    id2words ={}\n",
    "    for i,word in enumerate(vectorizer.get_feature_names()):\n",
    "        id2words[i] = word\n",
    "    return matrix,np.vstack([cosine_similarity(val, matrix)for val in matrix]),id2words"
   ]
  },
  {
   "cell_type": "code",
   "execution_count": null,
   "metadata": {
    "collapsed": true
   },
   "outputs": [],
   "source": [
    "def draw(matrix):\n",
    "    fig, ax = plt.subplots()\n",
    "    cax = ax.matshow(matrix, cmap=cm.YlGnBu)\n",
    "    ax.set_xticks(np.arange(matrix.shape[1]), minor=False)\n",
    "    ax.set_yticks(np.arange(matrix.shape[0]), minor=False)\n",
    "    ax.set_xticklabels(matrix.index, rotation='vertical')\n",
    "    ax.set_yticklabels(matrix.index)\n",
    "    fig.colorbar(cax, ticks=[0.1, 0.2, 0.3, 0.4, 0.5, 0.6, 0.7,.8,.90,1])\n",
    "    fig.set_size_inches(30, 30)\n",
    "    plt.show()"
   ]
  },
  {
   "cell_type": "code",
   "execution_count": null,
   "metadata": {
    "collapsed": false
   },
   "outputs": [],
   "source": [
    "matrix_if,similarity_if,_ = vectorizer(contents)\n",
    "matrix = pd.DataFrame(similarity_if)\n",
    "matrix.columns = cuisines\n",
    "matrix.index = cuisines\n",
    "draw(matrix)"
   ]
  },
  {
   "cell_type": "code",
   "execution_count": null,
   "metadata": {
    "collapsed": false
   },
   "outputs": [],
   "source": []
  },
  {
   "cell_type": "code",
   "execution_count": null,
   "metadata": {
    "collapsed": false
   },
   "outputs": [],
   "source": [
    "matrix_ifidf,similarity_ifidf,id2words = vectorizer(contents,True)\n",
    "matrix = pd.DataFrame(similarity_ifidf)\n",
    "matrix.columns = cuisines\n",
    "matrix.index = cuisines\n",
    "draw(matrix)"
   ]
  },
  {
   "cell_type": "code",
   "execution_count": null,
   "metadata": {
    "collapsed": false
   },
   "outputs": [],
   "source": []
  },
  {
   "cell_type": "code",
   "execution_count": null,
   "metadata": {
    "collapsed": true
   },
   "outputs": [],
   "source": [
    "\n",
    "def bracket(ax, pos=[0,0], scalex=1, scaley=1, text=\"\",textkw = {}, linekw = {}):\n",
    "    x = np.array([0, 0.05, 0.45,0.5])\n",
    "    y = np.array([0,-0.01,-0.01,-0.02])\n",
    "    x = np.concatenate((x,x+0.5)) \n",
    "    y = np.concatenate((y,y[::-1]))\n",
    "    ax.plot(x*scalex+pos[0], y*scaley+pos[1], clip_on=False, \n",
    "            transform=ax.get_xaxis_transform(), **linekw)\n",
    "    ax.text(pos[0]+0.5*scalex, (y.min()-0.01)*scaley+pos[1], text, \n",
    "                transform=ax.get_xaxis_transform(),\n",
    "                ha=\"center\", va=\"top\", **textkw)\n",
    "def draw_with_cluster(matrix, axline):\n",
    "    fig, ax = plt.subplots()\n",
    "    cax = ax.matshow(matrix, cmap=cm.YlGnBu)\n",
    "    ax.set_xticks(np.arange(matrix.shape[1]), minor=False)\n",
    "    ax.set_yticks(np.arange(matrix.shape[0]), minor=False)\n",
    "    ax.set_xticklabels(matrix.index, rotation='vertical')\n",
    "    ax.set_yticklabels(matrix.index)\n",
    "    for i, line in enumerate(axline):\n",
    "      plt.axvline(x=line-0.5,color='red', lw=2)\n",
    "      plt.axhline(y=line-0.5,color='red', lw=2)\n",
    "      if i ==0:\n",
    "        bracket(ax, text=i, pos=[0-0.5,-0.01 ], scalex=line-0.5, linekw=dict(color=\"red\", lw=2) )\n",
    "      else:\n",
    "        bracket(ax, text=i, pos=[axline[i-1]-0.5,-0.01 ], scalex=axline[i]-axline[i-1]-0.5, linekw=dict(color=\"red\", lw=2) )\n",
    "    fig.colorbar(cax, ticks=[0.1, 0.2, 0.3, 0.4, 0.5, 0.6, 0.7,.8,.90,1])\n",
    "    fig.set_size_inches(30, 30)\n",
    "    plt.show()"
   ]
  },
  {
   "cell_type": "code",
   "execution_count": null,
   "metadata": {
    "collapsed": false
   },
   "outputs": [],
   "source": [
    "def draw_nclusters(nclusters):\n",
    "  \n",
    "  corpus = matutils.Sparse2Corpus(matrix_ifidf, documents_columns=False)\n",
    "  lda = models.LdaModel(corpus, id2word=id2words, num_topics=nclusters)\n",
    "  corpus_lda = lda[corpus]\n",
    "  topics= []\n",
    "  for i,topic in enumerate(corpus_lda):\n",
    "    bestCluster = max(topic, key=lambda x:x[1])\n",
    "    topics.append((i,cuisines[i]+\" cluster: \"+str(bestCluster[0]),bestCluster[0]))\n",
    "\n",
    "  clusters = []\n",
    "  topics.sort(key = lambda x: x[2])\n",
    "  for topic in topics:\n",
    "    clusters.append(topic[2])\n",
    "    \n",
    "  total = 0\n",
    "  axlineVals = []\n",
    "  for cluster in set(clusters):\n",
    "    total += clusters.count(cluster)\n",
    "    axlineVals.append(total)\n",
    "  matrix = pd.DataFrame(similarity_if).reindex([x[0] for x in topics])[[x[0] for x in topics]]\n",
    "  matrix.columns = [x[1] for x in topics]\n",
    "  matrix.index = [x[1] for x in topics]\n",
    "  draw_with_cluster(matrix,axlineVals)\n"
   ]
  },
  {
   "cell_type": "code",
   "execution_count": null,
   "metadata": {
    "collapsed": false
   },
   "outputs": [],
   "source": [
    "draw_nclusters(3)"
   ]
  },
  {
   "cell_type": "code",
   "execution_count": null,
   "metadata": {
    "collapsed": true
   },
   "outputs": [],
   "source": [
    "draw_nclusters(5)"
   ]
  },
  {
   "cell_type": "code",
   "execution_count": null,
   "metadata": {
    "collapsed": true
   },
   "outputs": [],
   "source": [
    "draw_nclusters(10)"
   ]
  },
  {
   "cell_type": "code",
   "execution_count": null,
   "metadata": {
    "collapsed": true
   },
   "outputs": [],
   "source": [
    "draw_nclusters(15)"
   ]
  },
  {
   "cell_type": "code",
   "execution_count": null,
   "metadata": {
    "collapsed": true
   },
   "outputs": [],
   "source": [
    "draw_nclusters(20)"
   ]
  },
  {
   "cell_type": "code",
   "execution_count": null,
   "metadata": {
    "collapsed": true
   },
   "outputs": [],
   "source": []
  },
  {
   "cell_type": "code",
   "execution_count": null,
   "metadata": {
    "collapsed": true
   },
   "outputs": [],
   "source": []
  },
  {
   "cell_type": "code",
   "execution_count": null,
   "metadata": {
    "collapsed": true
   },
   "outputs": [],
   "source": []
  },
  {
   "cell_type": "code",
   "execution_count": null,
   "metadata": {
    "collapsed": true
   },
   "outputs": [],
   "source": []
  },
  {
   "cell_type": "code",
   "execution_count": null,
   "metadata": {
    "collapsed": true
   },
   "outputs": [],
   "source": []
  },
  {
   "cell_type": "code",
   "execution_count": null,
   "metadata": {
    "collapsed": true
   },
   "outputs": [],
   "source": []
  },
  {
   "cell_type": "code",
   "execution_count": null,
   "metadata": {
    "collapsed": true
   },
   "outputs": [],
   "source": []
  },
  {
   "cell_type": "code",
   "execution_count": null,
   "metadata": {
    "collapsed": false
   },
   "outputs": [],
   "source": [
    "# corpus = matutils.Sparse2Corpus(matrix_ifidf, documents_columns=False)\n",
    "# lda = models.LdaModel(corpus, id2word=id2words, num_topics=1)\n",
    "# corpus_lda = lda[corpus]\n",
    "# topics= []\n",
    "# for i,topic in enumerate(corpus_lda):\n",
    "#   bestCluster = max(topic, key=lambda x:x[1])\n",
    "#   topics.append((i,cuisines[i]+\" cluster: \"+str(bestCluster[0]),bestCluster[0]))\n"
   ]
  },
  {
   "cell_type": "code",
   "execution_count": null,
   "metadata": {
    "collapsed": true
   },
   "outputs": [],
   "source": [
    "# clusters = []\n",
    "# topics.sort(key = lambda x: x[2])\n",
    "# for topic in topics:\n",
    "#   clusters.append(topic[2])"
   ]
  },
  {
   "cell_type": "code",
   "execution_count": null,
   "metadata": {
    "collapsed": false
   },
   "outputs": [],
   "source": [
    "# total = 0\n",
    "# axlineVals = []\n",
    "# for cluster in set(clusters):\n",
    "#   total += clusters.count(cluster)\n",
    "#   axlineVals.append(total)"
   ]
  },
  {
   "cell_type": "code",
   "execution_count": null,
   "metadata": {
    "collapsed": false,
    "scrolled": false
   },
   "outputs": [],
   "source": [
    "# matrix = pd.DataFrame(similarity_if).reindex([x[0] for x in topics])[[x[0] for x in topics]]\n",
    "# matrix.columns = [x[1] for x in topics]\n",
    "# matrix.index = [x[1] for x in topics]\n",
    "# draw_with_cluster(matrix,axlineVals)"
   ]
  },
  {
   "cell_type": "code",
   "execution_count": null,
   "metadata": {
    "collapsed": true
   },
   "outputs": [],
   "source": []
  },
  {
   "cell_type": "code",
   "execution_count": null,
   "metadata": {
    "collapsed": true
   },
   "outputs": [],
   "source": []
  },
  {
   "cell_type": "code",
   "execution_count": null,
   "metadata": {
    "collapsed": true
   },
   "outputs": [],
   "source": []
  },
  {
   "cell_type": "code",
   "execution_count": null,
   "metadata": {
    "collapsed": true
   },
   "outputs": [],
   "source": []
  },
  {
   "cell_type": "code",
   "execution_count": null,
   "metadata": {
    "collapsed": true
   },
   "outputs": [],
   "source": []
  },
  {
   "cell_type": "code",
   "execution_count": null,
   "metadata": {
    "collapsed": true
   },
   "outputs": [],
   "source": []
  },
  {
   "cell_type": "code",
   "execution_count": null,
   "metadata": {
    "collapsed": true
   },
   "outputs": [],
   "source": []
  },
  {
   "cell_type": "code",
   "execution_count": null,
   "metadata": {
    "collapsed": true
   },
   "outputs": [],
   "source": []
  },
  {
   "cell_type": "code",
   "execution_count": null,
   "metadata": {
    "collapsed": true
   },
   "outputs": [],
   "source": []
  },
  {
   "cell_type": "code",
   "execution_count": null,
   "metadata": {
    "collapsed": true
   },
   "outputs": [],
   "source": []
  },
  {
   "cell_type": "code",
   "execution_count": null,
   "metadata": {
    "collapsed": true
   },
   "outputs": [],
   "source": [
    "# import seaborn as sns\n",
    "# import matplotlib.pyplot as plt\n",
    "\n",
    "# g=sns.clustermap(df_lda.corr(), center=0, cmap=\"YlGnBu\", metric='cosine', linewidths=.75, figsize=(12, 12))\n",
    "# plt.setp(g.ax_heatmap.yaxis.get_majorticklabels(), rotation=0)\n",
    "# plt.show()"
   ]
  }
 ],
 "metadata": {
  "kernelspec": {
   "display_name": "Python [default]",
   "language": "python",
   "name": "python3"
  },
  "language_info": {
   "codemirror_mode": {
    "name": "ipython",
    "version": 3
   },
   "file_extension": ".py",
   "mimetype": "text/x-python",
   "name": "python",
   "nbconvert_exporter": "python",
   "pygments_lexer": "ipython3",
   "version": "3.6.8"
  }
 },
 "nbformat": 4,
 "nbformat_minor": 2
}
